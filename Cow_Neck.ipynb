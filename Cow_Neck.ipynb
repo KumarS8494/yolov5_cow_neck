{
  "nbformat": 4,
  "nbformat_minor": 0,
  "metadata": {
    "colab": {
      "provenance": [],
      "gpuType": "T4",
      "include_colab_link": true
    },
    "kernelspec": {
      "name": "python3",
      "display_name": "Python 3"
    },
    "language_info": {
      "name": "python"
    },
    "accelerator": "GPU"
  },
  "cells": [
    {
      "cell_type": "markdown",
      "metadata": {
        "id": "view-in-github",
        "colab_type": "text"
      },
      "source": [
        "<a href=\"https://colab.research.google.com/github/kumartankhush786/yolov5_cow_neck/blob/main/Cow_Neck.ipynb\" target=\"_parent\"><img src=\"https://colab.research.google.com/assets/colab-badge.svg\" alt=\"Open In Colab\"/></a>"
      ]
    },
    {
      "cell_type": "markdown",
      "source": [
        "Load YOLOV5"
      ],
      "metadata": {
        "id": "jyUJCToLoXzK"
      }
    },
    {
      "cell_type": "code",
      "source": [
        "#clone Yolov5\n",
        "!git clone https://github.com/ultralytics/yolov5.git"
      ],
      "metadata": {
        "colab": {
          "base_uri": "https://localhost:8080/"
        },
        "id": "ZURZqfZnodYT",
        "outputId": "07b8fb7f-f6c8-4e11-cd53-f2e526ebd282"
      },
      "execution_count": null,
      "outputs": [
        {
          "output_type": "stream",
          "name": "stdout",
          "text": [
            "Cloning into 'yolov5'...\n",
            "remote: Enumerating objects: 15921, done.\u001b[K\n",
            "remote: Counting objects: 100% (41/41), done.\u001b[K\n",
            "remote: Compressing objects: 100% (28/28), done.\u001b[K\n",
            "remote: Total 15921 (delta 17), reused 28 (delta 13), pack-reused 15880\u001b[K\n",
            "Receiving objects: 100% (15921/15921), 14.66 MiB | 11.79 MiB/s, done.\n",
            "Resolving deltas: 100% (10916/10916), done.\n"
          ]
        }
      ]
    },
    {
      "cell_type": "code",
      "source": [
        "%cd yolov5"
      ],
      "metadata": {
        "colab": {
          "base_uri": "https://localhost:8080/"
        },
        "id": "ntLd9djcowJz",
        "outputId": "8862704f-2d93-41bc-c724-6480408e82ee"
      },
      "execution_count": null,
      "outputs": [
        {
          "output_type": "stream",
          "name": "stdout",
          "text": [
            "/content/yolov5\n"
          ]
        }
      ]
    },
    {
      "cell_type": "code",
      "source": [
        "#for install all dependencies\n",
        "%pip install -qr requirements.txt"
      ],
      "metadata": {
        "colab": {
          "base_uri": "https://localhost:8080/"
        },
        "id": "w2xhRbSTo8ay",
        "outputId": "adf358b3-03f1-43f7-fcef-32f8f0392a85"
      },
      "execution_count": null,
      "outputs": [
        {
          "output_type": "stream",
          "name": "stdout",
          "text": [
            "\u001b[2K     \u001b[90m━━━━━━━━━━━━━━━━━━━━━━━━━━━━━━━━━━━━━━━\u001b[0m \u001b[32m188.5/188.5 kB\u001b[0m \u001b[31m4.0 MB/s\u001b[0m eta \u001b[36m0:00:00\u001b[0m\n",
            "\u001b[2K     \u001b[90m━━━━━━━━━━━━━━━━━━━━━━━━━━━━━━━━━━━━━━\u001b[0m \u001b[32m612.0/612.0 kB\u001b[0m \u001b[31m10.4 MB/s\u001b[0m eta \u001b[36m0:00:00\u001b[0m\n",
            "\u001b[2K     \u001b[90m━━━━━━━━━━━━━━━━━━━━━━━━━━━━━━━━━━━━━━━━\u001b[0m \u001b[32m62.7/62.7 kB\u001b[0m \u001b[31m7.1 MB/s\u001b[0m eta \u001b[36m0:00:00\u001b[0m\n",
            "\u001b[?25h"
          ]
        }
      ]
    },
    {
      "cell_type": "code",
      "source": [
        "#import lib\n",
        "import torch\n",
        "import utils\n",
        "import os"
      ],
      "metadata": {
        "id": "5QFwx10gpSsS"
      },
      "execution_count": null,
      "outputs": []
    },
    {
      "cell_type": "code",
      "source": [
        "# for checking yolov5 model\n",
        "display = utils.notebook_init()"
      ],
      "metadata": {
        "colab": {
          "base_uri": "https://localhost:8080/"
        },
        "id": "P3mM59jvpt4i",
        "outputId": "89680edd-326b-4910-a8b5-d1a149ba4947"
      },
      "execution_count": null,
      "outputs": [
        {
          "output_type": "stream",
          "name": "stderr",
          "text": [
            "YOLOv5 🚀 v7.0-210-gdd10481 Python-3.10.12 torch-2.0.1+cu118 CUDA:0 (Tesla T4, 15102MiB)\n"
          ]
        },
        {
          "output_type": "stream",
          "name": "stdout",
          "text": [
            "Setup complete ✅ (2 CPUs, 12.7 GB RAM, 26.3/78.2 GB disk)\n"
          ]
        }
      ]
    },
    {
      "cell_type": "code",
      "source": [
        "#Cow_Neck dataset\n",
        "# arrays to store file names\n",
        "imgs = []\n",
        "xmls = []\n",
        "\n",
        "# setup directory names\n",
        "train_path = \"/dataset/images/train\"\n",
        "val_path = \"/dataset/images/val\"\n",
        "crs_path = \"/content/data\"\n",
        "print(crs_path)\n",
        "\n",
        "train_ratio = 0.7\n",
        "val_ratio = 0.3\n",
        "\n",
        "# total count of imgs\n",
        "total_img_count = len(os.listdir(crs_path))/2\n",
        "\n",
        "# sorting count of imgs\n",
        "for (dirname,dirs, files) in os.walk(crs_path):\n",
        "#     print(files)\n",
        "    for filename in files:\n",
        "#         print(\"filename\")\n",
        "        if filename.endswith(\".txt\"):\n",
        "            xmls.append(filename)\n",
        "        else:\n",
        "            imgs.append(filename)\n",
        "\n",
        "# counting range for cycles\n",
        "count_for_train = int(len(imgs)*train_ratio)\n",
        "count_for_val = int(len(imgs)*val_ratio)\n",
        "print(\"training images are : \",count_for_train)\n",
        "print(\"validation images are : \",count_for_val)"
      ],
      "metadata": {
        "id": "aaVKGyq7p8Ri",
        "colab": {
          "base_uri": "https://localhost:8080/"
        },
        "outputId": "52711f85-6714-4256-dfed-0e093074a626"
      },
      "execution_count": 7,
      "outputs": [
        {
          "output_type": "stream",
          "name": "stdout",
          "text": [
            "/content/data\n",
            "training images are :  430\n",
            "validation images are :  184\n"
          ]
        }
      ]
    },
    {
      "cell_type": "code",
      "source": [
        "len(imgs)"
      ],
      "metadata": {
        "colab": {
          "base_uri": "https://localhost:8080/"
        },
        "id": "oc-fzesdFve9",
        "outputId": "66e9bf62-6147-4590-bf59-2757c187c6ff"
      },
      "execution_count": 8,
      "outputs": [
        {
          "output_type": "execute_result",
          "data": {
            "text/plain": [
              "615"
            ]
          },
          "metadata": {},
          "execution_count": 8
        }
      ]
    },
    {
      "cell_type": "code",
      "source": [
        "import os\n",
        "from random import choice\n",
        "import shutil"
      ],
      "metadata": {
        "id": "YdBIpgpDFxTd"
      },
      "execution_count": 9,
      "outputs": []
    },
    {
      "cell_type": "code",
      "source": [
        "train_image_path = \"../dataset/images/train\"\n",
        "train_label_path = \"../dataset/labels/train\"\n",
        "val_image_path = \"../dataset/images/val\"\n",
        "val_label_path = \"../dataset/labels/val\"\n",
        "\n",
        "if not os.path.isdir(train_image_path):\n",
        "    os.makedirs(train_image_path)\n",
        "if not os.path.isdir(train_label_path):\n",
        "    os.makedirs(train_label_path)\n",
        "if not os.path.isdir(val_image_path):\n",
        "    os.makedirs(val_image_path)\n",
        "if not os.path.isdir(val_label_path):\n",
        "    os.makedirs(val_label_path)\n",
        "\n",
        "# cycle for train dir\n",
        "for x in range(count_for_train):\n",
        "    file_jpg = choice(imgs)\n",
        "    file_xml = file_jpg[:-4] + \".txt\"\n",
        "\n",
        "    shutil.copy(os.path.join(crs_path,file_jpg),os.path.join(train_image_path,file_jpg))\n",
        "    shutil.copy(os.path.join(crs_path,file_xml),os.path.join(train_label_path,file_xml))\n",
        "\n",
        "    imgs.remove(file_jpg)\n",
        "    xmls.remove(file_xml)\n",
        "\n",
        "# cycle for test dir\n",
        "for x in range(count_for_val):\n",
        "    file_jpg = choice(imgs)\n",
        "    file_xml = file_jpg[:-4] + \".txt\"\n",
        "\n",
        "    shutil.copy(os.path.join(crs_path,file_jpg),os.path.join(val_image_path,file_jpg))\n",
        "    shutil.copy(os.path.join(crs_path,file_xml),os.path.join(val_label_path,file_xml))\n",
        "\n",
        "    imgs.remove(file_jpg)\n",
        "    xmls.remove(file_xml)\n",
        "\n",
        "# rest of files\n",
        "print(\"images length - \",len(imgs))\n",
        "print(imgs,xmls)\n",
        "for x in imgs:\n",
        "    file_jpg = x\n",
        "    file_xml = file_jpg[:-4] + \".txt\"\n",
        "\n",
        "    shutil.copy(os.path.join(crs_path,file_jpg),os.path.join(val_image_path,file_jpg))\n",
        "    shutil.copy(os.path.join(crs_path,file_xml),os.path.join(val_label_path,file_xml))\n",
        "# shutil.copytree(crs_path,val_path)"
      ],
      "metadata": {
        "colab": {
          "base_uri": "https://localhost:8080/"
        },
        "id": "f6i1LPpUFxdc",
        "outputId": "5c20261f-d6e2-41b7-f6f0-36e92c8d58d5"
      },
      "execution_count": 10,
      "outputs": [
        {
          "output_type": "stream",
          "name": "stdout",
          "text": [
            "images length -  1\n",
            "['frame_0281.jpg'] ['frame_0281.txt']\n"
          ]
        }
      ]
    },
    {
      "cell_type": "code",
      "source": [
        "with open(r'/content/dataset/dataset.yaml', 'r') as file:\n",
        "    lines = file.readlines()\n",
        "    print(lines)"
      ],
      "metadata": {
        "colab": {
          "base_uri": "https://localhost:8080/"
        },
        "id": "cuHb9TX2F5rk",
        "outputId": "3b72cf73-d82c-4226-ab6d-8ef1a9932ad9"
      },
      "execution_count": 14,
      "outputs": [
        {
          "output_type": "stream",
          "name": "stdout",
          "text": [
            "['train: ../dataset/images/train\\n', 'val: ../dataset/images/val\\n', '\\n', 'nc: 7\\n', '\\n', \"names: ['RES','REL','FEP','MOV','URI','DRN','RUS',]\"]\n"
          ]
        }
      ]
    },
    {
      "cell_type": "code",
      "source": [
        "!python train.py --img 224 --batch 16 --epochs 20 --data /content/dataset/dataset.yaml --weights yolov5x.pt --workers 2"
      ],
      "metadata": {
        "colab": {
          "base_uri": "https://localhost:8080/"
        },
        "id": "6BdY_jj3F5t8",
        "outputId": "9be5f4c4-bec1-4e58-8a3b-da06596ba99a"
      },
      "execution_count": 15,
      "outputs": [
        {
          "output_type": "stream",
          "name": "stdout",
          "text": [
            "\u001b[34m\u001b[1mtrain: \u001b[0mweights=yolov5x.pt, cfg=, data=/content/dataset/dataset.yaml, hyp=data/hyps/hyp.scratch-low.yaml, epochs=20, batch_size=16, imgsz=224, rect=False, resume=False, nosave=False, noval=False, noautoanchor=False, noplots=False, evolve=None, bucket=, cache=None, image_weights=False, device=, multi_scale=False, single_cls=False, optimizer=SGD, sync_bn=False, workers=2, project=runs/train, name=exp, exist_ok=False, quad=False, cos_lr=False, label_smoothing=0.0, patience=100, freeze=[0], save_period=-1, seed=0, local_rank=-1, entity=None, upload_dataset=False, bbox_interval=-1, artifact_alias=latest\n",
            "\u001b[34m\u001b[1mgithub: \u001b[0mup to date with https://github.com/ultralytics/yolov5 ✅\n",
            "YOLOv5 🚀 v7.0-210-gdd10481 Python-3.10.12 torch-2.0.1+cu118 CUDA:0 (Tesla T4, 15102MiB)\n",
            "\n",
            "\u001b[34m\u001b[1mhyperparameters: \u001b[0mlr0=0.01, lrf=0.01, momentum=0.937, weight_decay=0.0005, warmup_epochs=3.0, warmup_momentum=0.8, warmup_bias_lr=0.1, box=0.05, cls=0.5, cls_pw=1.0, obj=1.0, obj_pw=1.0, iou_t=0.2, anchor_t=4.0, fl_gamma=0.0, hsv_h=0.015, hsv_s=0.7, hsv_v=0.4, degrees=0.0, translate=0.1, scale=0.5, shear=0.0, perspective=0.0, flipud=0.0, fliplr=0.5, mosaic=1.0, mixup=0.0, copy_paste=0.0\n",
            "\u001b[34m\u001b[1mComet: \u001b[0mrun 'pip install comet_ml' to automatically track and visualize YOLOv5 🚀 runs in Comet\n",
            "\u001b[34m\u001b[1mTensorBoard: \u001b[0mStart with 'tensorboard --logdir runs/train', view at http://localhost:6006/\n",
            "Downloading https://github.com/ultralytics/yolov5/releases/download/v7.0/yolov5x.pt to yolov5x.pt...\n",
            "100% 166M/166M [00:02<00:00, 70.4MB/s]\n",
            "\n",
            "Overriding model.yaml nc=80 with nc=7\n",
            "\n",
            "                 from  n    params  module                                  arguments                     \n",
            "  0                -1  1      8800  models.common.Conv                      [3, 80, 6, 2, 2]              \n",
            "  1                -1  1    115520  models.common.Conv                      [80, 160, 3, 2]               \n",
            "  2                -1  4    309120  models.common.C3                        [160, 160, 4]                 \n",
            "  3                -1  1    461440  models.common.Conv                      [160, 320, 3, 2]              \n",
            "  4                -1  8   2259200  models.common.C3                        [320, 320, 8]                 \n",
            "  5                -1  1   1844480  models.common.Conv                      [320, 640, 3, 2]              \n",
            "  6                -1 12  13125120  models.common.C3                        [640, 640, 12]                \n",
            "  7                -1  1   7375360  models.common.Conv                      [640, 1280, 3, 2]             \n",
            "  8                -1  4  19676160  models.common.C3                        [1280, 1280, 4]               \n",
            "  9                -1  1   4099840  models.common.SPPF                      [1280, 1280, 5]               \n",
            " 10                -1  1    820480  models.common.Conv                      [1280, 640, 1, 1]             \n",
            " 11                -1  1         0  torch.nn.modules.upsampling.Upsample    [None, 2, 'nearest']          \n",
            " 12           [-1, 6]  1         0  models.common.Concat                    [1]                           \n",
            " 13                -1  4   5332480  models.common.C3                        [1280, 640, 4, False]         \n",
            " 14                -1  1    205440  models.common.Conv                      [640, 320, 1, 1]              \n",
            " 15                -1  1         0  torch.nn.modules.upsampling.Upsample    [None, 2, 'nearest']          \n",
            " 16           [-1, 4]  1         0  models.common.Concat                    [1]                           \n",
            " 17                -1  4   1335040  models.common.C3                        [640, 320, 4, False]          \n",
            " 18                -1  1    922240  models.common.Conv                      [320, 320, 3, 2]              \n",
            " 19          [-1, 14]  1         0  models.common.Concat                    [1]                           \n",
            " 20                -1  4   4922880  models.common.C3                        [640, 640, 4, False]          \n",
            " 21                -1  1   3687680  models.common.Conv                      [640, 640, 3, 2]              \n",
            " 22          [-1, 10]  1         0  models.common.Concat                    [1]                           \n",
            " 23                -1  4  19676160  models.common.C3                        [1280, 1280, 4, False]        \n",
            " 24      [17, 20, 23]  1     80748  models.yolo.Detect                      [7, [[10, 13, 16, 30, 33, 23], [30, 61, 62, 45, 59, 119], [116, 90, 156, 198, 373, 326]], [320, 640, 1280]]\n",
            "Model summary: 445 layers, 86258188 parameters, 86258188 gradients, 204.8 GFLOPs\n",
            "\n",
            "Transferred 739/745 items from yolov5x.pt\n",
            "\u001b[34m\u001b[1mAMP: \u001b[0mchecks passed ✅\n",
            "\u001b[34m\u001b[1moptimizer:\u001b[0m SGD(lr=0.01) with parameter groups 123 weight(decay=0.0), 126 weight(decay=0.0005), 126 bias\n",
            "\u001b[34m\u001b[1malbumentations: \u001b[0mBlur(p=0.01, blur_limit=(3, 7)), MedianBlur(p=0.01, blur_limit=(3, 7)), ToGray(p=0.01), CLAHE(p=0.01, clip_limit=(1, 4.0), tile_grid_size=(8, 8))\n",
            "\u001b[34m\u001b[1mtrain: \u001b[0mScanning /content/dataset/labels/train... 216 images, 0 backgrounds, 214 corrupt: 100% 430/430 [00:03<00:00, 114.41it/s]\n",
            "\u001b[34m\u001b[1mtrain: \u001b[0mWARNING ⚠️ /content/dataset/images/train/frame_0489.jpg: ignoring corrupt image/label: image file is truncated (45 bytes not processed)\n",
            "\u001b[34m\u001b[1mtrain: \u001b[0mWARNING ⚠️ /content/dataset/images/train/frame_0494.jpg: ignoring corrupt image/label: image file is truncated (95 bytes not processed)\n",
            "\u001b[34m\u001b[1mtrain: \u001b[0mWARNING ⚠️ /content/dataset/images/train/frame_0496.jpg: ignoring corrupt image/label: image file is truncated (96 bytes not processed)\n",
            "\u001b[34m\u001b[1mtrain: \u001b[0mWARNING ⚠️ /content/dataset/images/train/frame_0498.jpg: ignoring corrupt image/label: image file is truncated (81 bytes not processed)\n",
            "\u001b[34m\u001b[1mtrain: \u001b[0mWARNING ⚠️ /content/dataset/images/train/frame_0502.jpg: ignoring corrupt image/label: image file is truncated (33 bytes not processed)\n",
            "\u001b[34m\u001b[1mtrain: \u001b[0mWARNING ⚠️ /content/dataset/images/train/frame_0503.jpg: ignoring corrupt image/label: image file is truncated (30 bytes not processed)\n",
            "\u001b[34m\u001b[1mtrain: \u001b[0mWARNING ⚠️ /content/dataset/images/train/frame_0504.jpg: ignoring corrupt image/label: image file is truncated (86 bytes not processed)\n",
            "\u001b[34m\u001b[1mtrain: \u001b[0mWARNING ⚠️ /content/dataset/images/train/frame_0505.jpg: ignoring corrupt image/label: image file is truncated (76 bytes not processed)\n",
            "\u001b[34m\u001b[1mtrain: \u001b[0mWARNING ⚠️ /content/dataset/images/train/frame_0506.jpg: ignoring corrupt image/label: image file is truncated (84 bytes not processed)\n",
            "\u001b[34m\u001b[1mtrain: \u001b[0mWARNING ⚠️ /content/dataset/images/train/frame_0507.jpg: ignoring corrupt image/label: image file is truncated (88 bytes not processed)\n",
            "\u001b[34m\u001b[1mtrain: \u001b[0mWARNING ⚠️ /content/dataset/images/train/frame_0508.jpg: ignoring corrupt image/label: image file is truncated (73 bytes not processed)\n",
            "\u001b[34m\u001b[1mtrain: \u001b[0mWARNING ⚠️ /content/dataset/images/train/frame_0511.jpg: ignoring corrupt image/label: image file is truncated (120 bytes not processed)\n",
            "\u001b[34m\u001b[1mtrain: \u001b[0mWARNING ⚠️ /content/dataset/images/train/frame_0512.jpg: ignoring corrupt image/label: image file is truncated (8 bytes not processed)\n",
            "\u001b[34m\u001b[1mtrain: \u001b[0mWARNING ⚠️ /content/dataset/images/train/frame_0513.jpg: ignoring corrupt image/label: image file is truncated (24 bytes not processed)\n",
            "\u001b[34m\u001b[1mtrain: \u001b[0mWARNING ⚠️ /content/dataset/images/train/frame_0536.jpg: ignoring corrupt image/label: image file is truncated (71 bytes not processed)\n",
            "\u001b[34m\u001b[1mtrain: \u001b[0mWARNING ⚠️ /content/dataset/images/train/frame_0538.jpg: ignoring corrupt image/label: image file is truncated (93 bytes not processed)\n",
            "\u001b[34m\u001b[1mtrain: \u001b[0mWARNING ⚠️ /content/dataset/images/train/frame_0539.jpg: ignoring corrupt image/label: image file is truncated (37 bytes not processed)\n",
            "\u001b[34m\u001b[1mtrain: \u001b[0mWARNING ⚠️ /content/dataset/images/train/frame_0540.jpg: ignoring corrupt image/label: image file is truncated (41 bytes not processed)\n",
            "\u001b[34m\u001b[1mtrain: \u001b[0mWARNING ⚠️ /content/dataset/images/train/frame_0541.jpg: ignoring corrupt image/label: image file is truncated (96 bytes not processed)\n",
            "\u001b[34m\u001b[1mtrain: \u001b[0mWARNING ⚠️ /content/dataset/images/train/frame_0542.jpg: ignoring corrupt image/label: image file is truncated (21 bytes not processed)\n",
            "\u001b[34m\u001b[1mtrain: \u001b[0mWARNING ⚠️ /content/dataset/images/train/frame_0543.jpg: ignoring corrupt image/label: image file is truncated (70 bytes not processed)\n",
            "\u001b[34m\u001b[1mtrain: \u001b[0mWARNING ⚠️ /content/dataset/images/train/frame_0544.jpg: ignoring corrupt image/label: image file is truncated (11 bytes not processed)\n",
            "\u001b[34m\u001b[1mtrain: \u001b[0mWARNING ⚠️ /content/dataset/images/train/frame_0545.jpg: ignoring corrupt image/label: image file is truncated (66 bytes not processed)\n",
            "\u001b[34m\u001b[1mtrain: \u001b[0mWARNING ⚠️ /content/dataset/images/train/frame_0547.jpg: ignoring corrupt image/label: image file is truncated (56 bytes not processed)\n",
            "\u001b[34m\u001b[1mtrain: \u001b[0mWARNING ⚠️ /content/dataset/images/train/frame_0548.jpg: ignoring corrupt image/label: image file is truncated (2 bytes not processed)\n",
            "\u001b[34m\u001b[1mtrain: \u001b[0mWARNING ⚠️ /content/dataset/images/train/frame_0549.jpg: ignoring corrupt image/label: image file is truncated (45 bytes not processed)\n",
            "\u001b[34m\u001b[1mtrain: \u001b[0mWARNING ⚠️ /content/dataset/images/train/frame_0550.jpg: ignoring corrupt image/label: image file is truncated (128 bytes not processed)\n",
            "\u001b[34m\u001b[1mtrain: \u001b[0mWARNING ⚠️ /content/dataset/images/train/frame_0562.jpg: ignoring corrupt image/label: image file is truncated (65 bytes not processed)\n",
            "\u001b[34m\u001b[1mtrain: \u001b[0mWARNING ⚠️ /content/dataset/images/train/frame_0563.jpg: ignoring corrupt image/label: image file is truncated (116 bytes not processed)\n",
            "\u001b[34m\u001b[1mtrain: \u001b[0mWARNING ⚠️ /content/dataset/images/train/frame_0564.jpg: ignoring corrupt image/label: image file is truncated (40 bytes not processed)\n",
            "\u001b[34m\u001b[1mtrain: \u001b[0mWARNING ⚠️ /content/dataset/images/train/frame_0565.jpg: ignoring corrupt image/label: image file is truncated (129 bytes not processed)\n",
            "\u001b[34m\u001b[1mtrain: \u001b[0mWARNING ⚠️ /content/dataset/images/train/frame_0566.jpg: ignoring corrupt image/label: image file is truncated (13 bytes not processed)\n",
            "\u001b[34m\u001b[1mtrain: \u001b[0mWARNING ⚠️ /content/dataset/images/train/frame_0567.jpg: ignoring corrupt image/label: image file is truncated (131 bytes not processed)\n",
            "\u001b[34m\u001b[1mtrain: \u001b[0mWARNING ⚠️ /content/dataset/images/train/frame_0641.jpg: ignoring corrupt image/label: image file is truncated (63 bytes not processed)\n",
            "\u001b[34m\u001b[1mtrain: \u001b[0mWARNING ⚠️ /content/dataset/images/train/frame_0643.jpg: ignoring corrupt image/label: image file is truncated (117 bytes not processed)\n",
            "\u001b[34m\u001b[1mtrain: \u001b[0mWARNING ⚠️ /content/dataset/images/train/frame_0644.jpg: ignoring corrupt image/label: image file is truncated (3 bytes not processed)\n",
            "\u001b[34m\u001b[1mtrain: \u001b[0mWARNING ⚠️ /content/dataset/images/train/frame_0645.jpg: ignoring corrupt image/label: image file is truncated (3 bytes not processed)\n",
            "\u001b[34m\u001b[1mtrain: \u001b[0mWARNING ⚠️ /content/dataset/images/train/frame_0647.jpg: ignoring corrupt image/label: image file is truncated (88 bytes not processed)\n",
            "\u001b[34m\u001b[1mtrain: \u001b[0mWARNING ⚠️ /content/dataset/images/train/frame_0648.jpg: ignoring corrupt image/label: image file is truncated (101 bytes not processed)\n",
            "\u001b[34m\u001b[1mtrain: \u001b[0mWARNING ⚠️ /content/dataset/images/train/frame_0650.jpg: ignoring corrupt image/label: image file is truncated (52 bytes not processed)\n",
            "\u001b[34m\u001b[1mtrain: \u001b[0mWARNING ⚠️ /content/dataset/images/train/frame_0652.jpg: ignoring corrupt image/label: image file is truncated (89 bytes not processed)\n",
            "\u001b[34m\u001b[1mtrain: \u001b[0mWARNING ⚠️ /content/dataset/images/train/frame_0653.jpg: ignoring corrupt image/label: image file is truncated (10 bytes not processed)\n",
            "\u001b[34m\u001b[1mtrain: \u001b[0mWARNING ⚠️ /content/dataset/images/train/frame_0655.jpg: ignoring corrupt image/label: image file is truncated (153 bytes not processed)\n",
            "\u001b[34m\u001b[1mtrain: \u001b[0mWARNING ⚠️ /content/dataset/images/train/frame_0656.jpg: ignoring corrupt image/label: image file is truncated (126 bytes not processed)\n",
            "\u001b[34m\u001b[1mtrain: \u001b[0mWARNING ⚠️ /content/dataset/images/train/frame_0657.jpg: ignoring corrupt image/label: image file is truncated (47 bytes not processed)\n",
            "\u001b[34m\u001b[1mtrain: \u001b[0mWARNING ⚠️ /content/dataset/images/train/frame_0658.jpg: ignoring corrupt image/label: image file is truncated (48 bytes not processed)\n",
            "\u001b[34m\u001b[1mtrain: \u001b[0mWARNING ⚠️ /content/dataset/images/train/frame_0660.jpg: ignoring corrupt image/label: image file is truncated (67 bytes not processed)\n",
            "\u001b[34m\u001b[1mtrain: \u001b[0mWARNING ⚠️ /content/dataset/images/train/frame_0661.jpg: ignoring corrupt image/label: image file is truncated (139 bytes not processed)\n",
            "\u001b[34m\u001b[1mtrain: \u001b[0mWARNING ⚠️ /content/dataset/images/train/frame_0662.jpg: ignoring corrupt image/label: image file is truncated (24 bytes not processed)\n",
            "\u001b[34m\u001b[1mtrain: \u001b[0mWARNING ⚠️ /content/dataset/images/train/frame_0663.jpg: ignoring corrupt image/label: image file is truncated (116 bytes not processed)\n",
            "\u001b[34m\u001b[1mtrain: \u001b[0mWARNING ⚠️ /content/dataset/images/train/frame_0665.jpg: ignoring corrupt image/label: image file is truncated (109 bytes not processed)\n",
            "\u001b[34m\u001b[1mtrain: \u001b[0mWARNING ⚠️ /content/dataset/images/train/frame_0666.jpg: ignoring corrupt image/label: image file is truncated (95 bytes not processed)\n",
            "\u001b[34m\u001b[1mtrain: \u001b[0mWARNING ⚠️ /content/dataset/images/train/frame_0667.jpg: ignoring corrupt image/label: image file is truncated (77 bytes not processed)\n",
            "\u001b[34m\u001b[1mtrain: \u001b[0mWARNING ⚠️ /content/dataset/images/train/frame_0669.jpg: ignoring corrupt image/label: image file is truncated (114 bytes not processed)\n",
            "\u001b[34m\u001b[1mtrain: \u001b[0mWARNING ⚠️ /content/dataset/images/train/frame_0670.jpg: ignoring corrupt image/label: image file is truncated (96 bytes not processed)\n",
            "\u001b[34m\u001b[1mtrain: \u001b[0mWARNING ⚠️ /content/dataset/images/train/frame_0671.jpg: ignoring corrupt image/label: image file is truncated (88 bytes not processed)\n",
            "\u001b[34m\u001b[1mtrain: \u001b[0mWARNING ⚠️ /content/dataset/images/train/frame_0672.jpg: ignoring corrupt image/label: image file is truncated (100 bytes not processed)\n",
            "\u001b[34m\u001b[1mtrain: \u001b[0mWARNING ⚠️ /content/dataset/images/train/frame_0674.jpg: ignoring corrupt image/label: image file is truncated (4 bytes not processed)\n",
            "\u001b[34m\u001b[1mtrain: \u001b[0mWARNING ⚠️ /content/dataset/images/train/frame_0675.jpg: ignoring corrupt image/label: image file is truncated (48 bytes not processed)\n",
            "\u001b[34m\u001b[1mtrain: \u001b[0mWARNING ⚠️ /content/dataset/images/train/frame_0676.jpg: ignoring corrupt image/label: image file is truncated (20 bytes not processed)\n",
            "\u001b[34m\u001b[1mtrain: \u001b[0mWARNING ⚠️ /content/dataset/images/train/frame_0677.jpg: ignoring corrupt image/label: image file is truncated (80 bytes not processed)\n",
            "\u001b[34m\u001b[1mtrain: \u001b[0mWARNING ⚠️ /content/dataset/images/train/frame_0678.jpg: ignoring corrupt image/label: image file is truncated (40 bytes not processed)\n",
            "\u001b[34m\u001b[1mtrain: \u001b[0mWARNING ⚠️ /content/dataset/images/train/frame_0679.jpg: ignoring corrupt image/label: image file is truncated (9 bytes not processed)\n",
            "\u001b[34m\u001b[1mtrain: \u001b[0mWARNING ⚠️ /content/dataset/images/train/frame_0681.jpg: ignoring corrupt image/label: image file is truncated (91 bytes not processed)\n",
            "\u001b[34m\u001b[1mtrain: \u001b[0mWARNING ⚠️ /content/dataset/images/train/frame_0683.jpg: ignoring corrupt image/label: image file is truncated (1 bytes not processed)\n",
            "\u001b[34m\u001b[1mtrain: \u001b[0mWARNING ⚠️ /content/dataset/images/train/frame_0685.jpg: ignoring corrupt image/label: image file is truncated (21 bytes not processed)\n",
            "\u001b[34m\u001b[1mtrain: \u001b[0mWARNING ⚠️ /content/dataset/images/train/frame_0687.jpg: ignoring corrupt image/label: image file is truncated (73 bytes not processed)\n",
            "\u001b[34m\u001b[1mtrain: \u001b[0mWARNING ⚠️ /content/dataset/images/train/frame_0690.jpg: ignoring corrupt image/label: image file is truncated (12 bytes not processed)\n",
            "\u001b[34m\u001b[1mtrain: \u001b[0mWARNING ⚠️ /content/dataset/images/train/frame_0691.jpg: ignoring corrupt image/label: image file is truncated (11 bytes not processed)\n",
            "\u001b[34m\u001b[1mtrain: \u001b[0mWARNING ⚠️ /content/dataset/images/train/frame_0693.jpg: ignoring corrupt image/label: image file is truncated (58 bytes not processed)\n",
            "\u001b[34m\u001b[1mtrain: \u001b[0mWARNING ⚠️ /content/dataset/images/train/frame_0706.jpg: ignoring corrupt image/label: image file is truncated (55 bytes not processed)\n",
            "\u001b[34m\u001b[1mtrain: \u001b[0mWARNING ⚠️ /content/dataset/images/train/frame_0707.jpg: ignoring corrupt image/label: image file is truncated (28 bytes not processed)\n",
            "\u001b[34m\u001b[1mtrain: \u001b[0mWARNING ⚠️ /content/dataset/images/train/frame_0711.jpg: ignoring corrupt image/label: image file is truncated (54 bytes not processed)\n",
            "\u001b[34m\u001b[1mtrain: \u001b[0mWARNING ⚠️ /content/dataset/images/train/frame_0712.jpg: ignoring corrupt image/label: image file is truncated (115 bytes not processed)\n",
            "\u001b[34m\u001b[1mtrain: \u001b[0mWARNING ⚠️ /content/dataset/images/train/frame_0713.jpg: ignoring corrupt image/label: image file is truncated (12 bytes not processed)\n",
            "\u001b[34m\u001b[1mtrain: \u001b[0mWARNING ⚠️ /content/dataset/images/train/frame_0714.jpg: ignoring corrupt image/label: image file is truncated (27 bytes not processed)\n",
            "\u001b[34m\u001b[1mtrain: \u001b[0mWARNING ⚠️ /content/dataset/images/train/frame_0716.jpg: ignoring corrupt image/label: image file is truncated (9 bytes not processed)\n",
            "\u001b[34m\u001b[1mtrain: \u001b[0mWARNING ⚠️ /content/dataset/images/train/frame_0718.jpg: ignoring corrupt image/label: image file is truncated (98 bytes not processed)\n",
            "\u001b[34m\u001b[1mtrain: \u001b[0mWARNING ⚠️ /content/dataset/images/train/frame_0720.jpg: ignoring corrupt image/label: image file is truncated (57 bytes not processed)\n",
            "\u001b[34m\u001b[1mtrain: \u001b[0mWARNING ⚠️ /content/dataset/images/train/frame_0721.jpg: ignoring corrupt image/label: image file is truncated (30 bytes not processed)\n",
            "\u001b[34m\u001b[1mtrain: \u001b[0mWARNING ⚠️ /content/dataset/images/train/frame_0723.jpg: ignoring corrupt image/label: image file is truncated (15 bytes not processed)\n",
            "\u001b[34m\u001b[1mtrain: \u001b[0mWARNING ⚠️ /content/dataset/images/train/frame_0724.jpg: ignoring corrupt image/label: image file is truncated (115 bytes not processed)\n",
            "\u001b[34m\u001b[1mtrain: \u001b[0mWARNING ⚠️ /content/dataset/images/train/frame_0725.jpg: ignoring corrupt image/label: image file is truncated (82 bytes not processed)\n",
            "\u001b[34m\u001b[1mtrain: \u001b[0mWARNING ⚠️ /content/dataset/images/train/frame_0727.jpg: ignoring corrupt image/label: image file is truncated (61 bytes not processed)\n",
            "\u001b[34m\u001b[1mtrain: \u001b[0mWARNING ⚠️ /content/dataset/images/train/frame_0729.jpg: ignoring corrupt image/label: image file is truncated (106 bytes not processed)\n",
            "\u001b[34m\u001b[1mtrain: \u001b[0mWARNING ⚠️ /content/dataset/images/train/frame_0730.jpg: ignoring corrupt image/label: image file is truncated (59 bytes not processed)\n",
            "\u001b[34m\u001b[1mtrain: \u001b[0mWARNING ⚠️ /content/dataset/images/train/frame_0734.jpg: ignoring corrupt image/label: image file is truncated (82 bytes not processed)\n",
            "\u001b[34m\u001b[1mtrain: \u001b[0mWARNING ⚠️ /content/dataset/images/train/frame_0736.jpg: ignoring corrupt image/label: image file is truncated (11 bytes not processed)\n",
            "\u001b[34m\u001b[1mtrain: \u001b[0mWARNING ⚠️ /content/dataset/images/train/frame_0737.jpg: ignoring corrupt image/label: image file is truncated (126 bytes not processed)\n",
            "\u001b[34m\u001b[1mtrain: \u001b[0mWARNING ⚠️ /content/dataset/images/train/frame_0738.jpg: ignoring corrupt image/label: image file is truncated (3 bytes not processed)\n",
            "\u001b[34m\u001b[1mtrain: \u001b[0mWARNING ⚠️ /content/dataset/images/train/frame_0740.jpg: ignoring corrupt image/label: image file is truncated (29 bytes not processed)\n",
            "\u001b[34m\u001b[1mtrain: \u001b[0mWARNING ⚠️ /content/dataset/images/train/frame_0742.jpg: ignoring corrupt image/label: image file is truncated (98 bytes not processed)\n",
            "\u001b[34m\u001b[1mtrain: \u001b[0mWARNING ⚠️ /content/dataset/images/train/frame_0743.jpg: ignoring corrupt image/label: image file is truncated (1 bytes not processed)\n",
            "\u001b[34m\u001b[1mtrain: \u001b[0mWARNING ⚠️ /content/dataset/images/train/frame_0744.jpg: ignoring corrupt image/label: image file is truncated (7 bytes not processed)\n",
            "\u001b[34m\u001b[1mtrain: \u001b[0mWARNING ⚠️ /content/dataset/images/train/frame_0779.jpg: ignoring corrupt image/label: image file is truncated (26 bytes not processed)\n",
            "\u001b[34m\u001b[1mtrain: \u001b[0mWARNING ⚠️ /content/dataset/images/train/frame_0796.jpg: ignoring corrupt image/label: image file is truncated (71 bytes not processed)\n",
            "\u001b[34m\u001b[1mtrain: \u001b[0mWARNING ⚠️ /content/dataset/images/train/frame_0797.jpg: ignoring corrupt image/label: image file is truncated (27 bytes not processed)\n",
            "\u001b[34m\u001b[1mtrain: \u001b[0mWARNING ⚠️ /content/dataset/images/train/frame_0798.jpg: ignoring corrupt image/label: image file is truncated (3 bytes not processed)\n",
            "\u001b[34m\u001b[1mtrain: \u001b[0mWARNING ⚠️ /content/dataset/images/train/frame_0799.jpg: ignoring corrupt image/label: image file is truncated (16 bytes not processed)\n",
            "\u001b[34m\u001b[1mtrain: \u001b[0mWARNING ⚠️ /content/dataset/images/train/frame_0801.jpg: ignoring corrupt image/label: image file is truncated (45 bytes not processed)\n",
            "\u001b[34m\u001b[1mtrain: \u001b[0mWARNING ⚠️ /content/dataset/images/train/frame_0802.jpg: ignoring corrupt image/label: image file is truncated (54 bytes not processed)\n",
            "\u001b[34m\u001b[1mtrain: \u001b[0mWARNING ⚠️ /content/dataset/images/train/frame_0803.jpg: ignoring corrupt image/label: image file is truncated (107 bytes not processed)\n",
            "\u001b[34m\u001b[1mtrain: \u001b[0mWARNING ⚠️ /content/dataset/images/train/frame_0804.jpg: ignoring corrupt image/label: image file is truncated (104 bytes not processed)\n",
            "\u001b[34m\u001b[1mtrain: \u001b[0mWARNING ⚠️ /content/dataset/images/train/frame_0805.jpg: ignoring corrupt image/label: image file is truncated (33 bytes not processed)\n",
            "\u001b[34m\u001b[1mtrain: \u001b[0mWARNING ⚠️ /content/dataset/images/train/frame_0806.jpg: ignoring corrupt image/label: image file is truncated (30 bytes not processed)\n",
            "\u001b[34m\u001b[1mtrain: \u001b[0mWARNING ⚠️ /content/dataset/images/train/frame_0807.jpg: ignoring corrupt image/label: image file is truncated (68 bytes not processed)\n",
            "\u001b[34m\u001b[1mtrain: \u001b[0mWARNING ⚠️ /content/dataset/images/train/frame_0809.jpg: ignoring corrupt image/label: image file is truncated (13 bytes not processed)\n",
            "\u001b[34m\u001b[1mtrain: \u001b[0mWARNING ⚠️ /content/dataset/images/train/frame_0812.jpg: ignoring corrupt image/label: image file is truncated (83 bytes not processed)\n",
            "\u001b[34m\u001b[1mtrain: \u001b[0mWARNING ⚠️ /content/dataset/images/train/frame_0813.jpg: ignoring corrupt image/label: image file is truncated (86 bytes not processed)\n",
            "\u001b[34m\u001b[1mtrain: \u001b[0mWARNING ⚠️ /content/dataset/images/train/frame_0814.jpg: ignoring corrupt image/label: image file is truncated (40 bytes not processed)\n",
            "\u001b[34m\u001b[1mtrain: \u001b[0mWARNING ⚠️ /content/dataset/images/train/frame_0815.jpg: ignoring corrupt image/label: image file is truncated (15 bytes not processed)\n",
            "\u001b[34m\u001b[1mtrain: \u001b[0mWARNING ⚠️ /content/dataset/images/train/frame_0817.jpg: ignoring corrupt image/label: image file is truncated (122 bytes not processed)\n",
            "\u001b[34m\u001b[1mtrain: \u001b[0mWARNING ⚠️ /content/dataset/images/train/frame_0818.jpg: ignoring corrupt image/label: image file is truncated (50 bytes not processed)\n",
            "\u001b[34m\u001b[1mtrain: \u001b[0mWARNING ⚠️ /content/dataset/images/train/frame_0820.jpg: ignoring corrupt image/label: image file is truncated (119 bytes not processed)\n",
            "\u001b[34m\u001b[1mtrain: \u001b[0mWARNING ⚠️ /content/dataset/images/train/frame_0821.jpg: ignoring corrupt image/label: image file is truncated (11 bytes not processed)\n",
            "\u001b[34m\u001b[1mtrain: \u001b[0mWARNING ⚠️ /content/dataset/images/train/frame_0823.jpg: ignoring corrupt image/label: image file is truncated (58 bytes not processed)\n",
            "\u001b[34m\u001b[1mtrain: \u001b[0mWARNING ⚠️ /content/dataset/images/train/frame_0824.jpg: ignoring corrupt image/label: image file is truncated (20 bytes not processed)\n",
            "\u001b[34m\u001b[1mtrain: \u001b[0mWARNING ⚠️ /content/dataset/images/train/frame_0825.jpg: ignoring corrupt image/label: image file is truncated (16 bytes not processed)\n",
            "\u001b[34m\u001b[1mtrain: \u001b[0mWARNING ⚠️ /content/dataset/images/train/frame_0826.jpg: ignoring corrupt image/label: image file is truncated (44 bytes not processed)\n",
            "\u001b[34m\u001b[1mtrain: \u001b[0mWARNING ⚠️ /content/dataset/images/train/frame_0827.jpg: ignoring corrupt image/label: image file is truncated (20 bytes not processed)\n",
            "\u001b[34m\u001b[1mtrain: \u001b[0mWARNING ⚠️ /content/dataset/images/train/frame_0828.jpg: ignoring corrupt image/label: image file is truncated (114 bytes not processed)\n",
            "\u001b[34m\u001b[1mtrain: \u001b[0mWARNING ⚠️ /content/dataset/images/train/frame_0830.jpg: ignoring corrupt image/label: image file is truncated (71 bytes not processed)\n",
            "\u001b[34m\u001b[1mtrain: \u001b[0mWARNING ⚠️ /content/dataset/images/train/frame_0831.jpg: ignoring corrupt image/label: image file is truncated (95 bytes not processed)\n",
            "\u001b[34m\u001b[1mtrain: \u001b[0mWARNING ⚠️ /content/dataset/images/train/frame_0833.jpg: ignoring corrupt image/label: image file is truncated (69 bytes not processed)\n",
            "\u001b[34m\u001b[1mtrain: \u001b[0mWARNING ⚠️ /content/dataset/images/train/frame_0835.jpg: ignoring corrupt image/label: image file is truncated (91 bytes not processed)\n",
            "\u001b[34m\u001b[1mtrain: \u001b[0mWARNING ⚠️ /content/dataset/images/train/frame_0836.jpg: ignoring corrupt image/label: image file is truncated (95 bytes not processed)\n",
            "\u001b[34m\u001b[1mtrain: \u001b[0mWARNING ⚠️ /content/dataset/images/train/frame_0838.jpg: ignoring corrupt image/label: image file is truncated (73 bytes not processed)\n",
            "\u001b[34m\u001b[1mtrain: \u001b[0mWARNING ⚠️ /content/dataset/images/train/frame_0858.jpg: ignoring corrupt image/label: image file is truncated (23 bytes not processed)\n",
            "\u001b[34m\u001b[1mtrain: \u001b[0mWARNING ⚠️ /content/dataset/images/train/frame_0927.jpg: ignoring corrupt image/label: image file is truncated (106 bytes not processed)\n",
            "\u001b[34m\u001b[1mtrain: \u001b[0mWARNING ⚠️ /content/dataset/images/train/frame_0928.jpg: ignoring corrupt image/label: image file is truncated (47 bytes not processed)\n",
            "\u001b[34m\u001b[1mtrain: \u001b[0mWARNING ⚠️ /content/dataset/images/train/frame_0929.jpg: ignoring corrupt image/label: image file is truncated (11 bytes not processed)\n",
            "\u001b[34m\u001b[1mtrain: \u001b[0mWARNING ⚠️ /content/dataset/images/train/frame_0931.jpg: ignoring corrupt image/label: image file is truncated (89 bytes not processed)\n",
            "\u001b[34m\u001b[1mtrain: \u001b[0mWARNING ⚠️ /content/dataset/images/train/frame_0951.jpg: ignoring corrupt image/label: image file is truncated (84 bytes not processed)\n",
            "\u001b[34m\u001b[1mtrain: \u001b[0mWARNING ⚠️ /content/dataset/images/train/frame_0955.jpg: ignoring corrupt image/label: image file is truncated (107 bytes not processed)\n",
            "\u001b[34m\u001b[1mtrain: \u001b[0mWARNING ⚠️ /content/dataset/images/train/frame_0956.jpg: ignoring corrupt image/label: image file is truncated (16 bytes not processed)\n",
            "\u001b[34m\u001b[1mtrain: \u001b[0mWARNING ⚠️ /content/dataset/images/train/frame_0964.jpg: ignoring corrupt image/label: image file is truncated (35 bytes not processed)\n",
            "\u001b[34m\u001b[1mtrain: \u001b[0mWARNING ⚠️ /content/dataset/images/train/frame_0989.jpg: ignoring corrupt image/label: image file is truncated (28 bytes not processed)\n",
            "\u001b[34m\u001b[1mtrain: \u001b[0mWARNING ⚠️ /content/dataset/images/train/frame_0990.jpg: ignoring corrupt image/label: image file is truncated (19 bytes not processed)\n",
            "\u001b[34m\u001b[1mtrain: \u001b[0mWARNING ⚠️ /content/dataset/images/train/frame_0991.jpg: ignoring corrupt image/label: image file is truncated (126 bytes not processed)\n",
            "\u001b[34m\u001b[1mtrain: \u001b[0mWARNING ⚠️ /content/dataset/images/train/frame_0992.jpg: ignoring corrupt image/label: image file is truncated (74 bytes not processed)\n",
            "\u001b[34m\u001b[1mtrain: \u001b[0mWARNING ⚠️ /content/dataset/images/train/frame_0993.jpg: ignoring corrupt image/label: image file is truncated (28 bytes not processed)\n",
            "\u001b[34m\u001b[1mtrain: \u001b[0mWARNING ⚠️ /content/dataset/images/train/frame_0994.jpg: ignoring corrupt image/label: image file is truncated (89 bytes not processed)\n",
            "\u001b[34m\u001b[1mtrain: \u001b[0mWARNING ⚠️ /content/dataset/images/train/frame_0995.jpg: ignoring corrupt image/label: image file is truncated (91 bytes not processed)\n",
            "\u001b[34m\u001b[1mtrain: \u001b[0mWARNING ⚠️ /content/dataset/images/train/frame_1000.jpg: ignoring corrupt image/label: image file is truncated (91 bytes not processed)\n",
            "\u001b[34m\u001b[1mtrain: \u001b[0mWARNING ⚠️ /content/dataset/images/train/frame_1003.jpg: ignoring corrupt image/label: image file is truncated (84 bytes not processed)\n",
            "\u001b[34m\u001b[1mtrain: \u001b[0mWARNING ⚠️ /content/dataset/images/train/frame_1004.jpg: ignoring corrupt image/label: image file is truncated (60 bytes not processed)\n",
            "\u001b[34m\u001b[1mtrain: \u001b[0mWARNING ⚠️ /content/dataset/images/train/frame_1006.jpg: ignoring corrupt image/label: image file is truncated (141 bytes not processed)\n",
            "\u001b[34m\u001b[1mtrain: \u001b[0mWARNING ⚠️ /content/dataset/images/train/frame_1021.jpg: ignoring corrupt image/label: image file is truncated (117 bytes not processed)\n",
            "\u001b[34m\u001b[1mtrain: \u001b[0mWARNING ⚠️ /content/dataset/images/train/frame_1022.jpg: ignoring corrupt image/label: image file is truncated (39 bytes not processed)\n",
            "\u001b[34m\u001b[1mtrain: \u001b[0mWARNING ⚠️ /content/dataset/images/train/frame_1023.jpg: ignoring corrupt image/label: image file is truncated (96 bytes not processed)\n",
            "\u001b[34m\u001b[1mtrain: \u001b[0mWARNING ⚠️ /content/dataset/images/train/frame_1024.jpg: ignoring corrupt image/label: image file is truncated (48 bytes not processed)\n",
            "\u001b[34m\u001b[1mtrain: \u001b[0mWARNING ⚠️ /content/dataset/images/train/frame_1026.jpg: ignoring corrupt image/label: image file is truncated (91 bytes not processed)\n",
            "\u001b[34m\u001b[1mtrain: \u001b[0mWARNING ⚠️ /content/dataset/images/train/frame_1027.jpg: ignoring corrupt image/label: image file is truncated (100 bytes not processed)\n",
            "\u001b[34m\u001b[1mtrain: \u001b[0mWARNING ⚠️ /content/dataset/images/train/frame_1118.jpg: ignoring corrupt image/label: image file is truncated (15 bytes not processed)\n",
            "\u001b[34m\u001b[1mtrain: \u001b[0mWARNING ⚠️ /content/dataset/images/train/frame_1119.jpg: ignoring corrupt image/label: image file is truncated (42 bytes not processed)\n",
            "\u001b[34m\u001b[1mtrain: \u001b[0mWARNING ⚠️ /content/dataset/images/train/frame_1127.jpg: ignoring corrupt image/label: image file is truncated (106 bytes not processed)\n",
            "\u001b[34m\u001b[1mtrain: \u001b[0mWARNING ⚠️ /content/dataset/images/train/frame_1128.jpg: ignoring corrupt image/label: image file is truncated (86 bytes not processed)\n",
            "\u001b[34m\u001b[1mtrain: \u001b[0mWARNING ⚠️ /content/dataset/images/train/frame_1129.jpg: ignoring corrupt image/label: image file is truncated (20 bytes not processed)\n",
            "\u001b[34m\u001b[1mtrain: \u001b[0mWARNING ⚠️ /content/dataset/images/train/frame_1130.jpg: ignoring corrupt image/label: image file is truncated (94 bytes not processed)\n",
            "\u001b[34m\u001b[1mtrain: \u001b[0mWARNING ⚠️ /content/dataset/images/train/frame_1131.jpg: ignoring corrupt image/label: image file is truncated (118 bytes not processed)\n",
            "\u001b[34m\u001b[1mtrain: \u001b[0mWARNING ⚠️ /content/dataset/images/train/frame_1132.jpg: ignoring corrupt image/label: image file is truncated (65 bytes not processed)\n",
            "\u001b[34m\u001b[1mtrain: \u001b[0mWARNING ⚠️ /content/dataset/images/train/frame_1134.jpg: ignoring corrupt image/label: image file is truncated (66 bytes not processed)\n",
            "\u001b[34m\u001b[1mtrain: \u001b[0mWARNING ⚠️ /content/dataset/images/train/frame_1135.jpg: ignoring corrupt image/label: image file is truncated (57 bytes not processed)\n",
            "\u001b[34m\u001b[1mtrain: \u001b[0mWARNING ⚠️ /content/dataset/images/train/frame_1136.jpg: ignoring corrupt image/label: image file is truncated (71 bytes not processed)\n",
            "\u001b[34m\u001b[1mtrain: \u001b[0mWARNING ⚠️ /content/dataset/images/train/frame_1138.jpg: ignoring corrupt image/label: image file is truncated (99 bytes not processed)\n",
            "\u001b[34m\u001b[1mtrain: \u001b[0mWARNING ⚠️ /content/dataset/images/train/frame_1139.jpg: ignoring corrupt image/label: image file is truncated (26 bytes not processed)\n",
            "\u001b[34m\u001b[1mtrain: \u001b[0mWARNING ⚠️ /content/dataset/images/train/frame_1140.jpg: ignoring corrupt image/label: image file is truncated (57 bytes not processed)\n",
            "\u001b[34m\u001b[1mtrain: \u001b[0mWARNING ⚠️ /content/dataset/images/train/frame_1141.jpg: ignoring corrupt image/label: image file is truncated (91 bytes not processed)\n",
            "\u001b[34m\u001b[1mtrain: \u001b[0mWARNING ⚠️ /content/dataset/images/train/frame_1142.jpg: ignoring corrupt image/label: image file is truncated (3 bytes not processed)\n",
            "\u001b[34m\u001b[1mtrain: \u001b[0mWARNING ⚠️ /content/dataset/images/train/frame_1143.jpg: ignoring corrupt image/label: image file is truncated (68 bytes not processed)\n",
            "\u001b[34m\u001b[1mtrain: \u001b[0mWARNING ⚠️ /content/dataset/images/train/frame_1144.jpg: ignoring corrupt image/label: image file is truncated (8 bytes not processed)\n",
            "\u001b[34m\u001b[1mtrain: \u001b[0mWARNING ⚠️ /content/dataset/images/train/frame_1146.jpg: ignoring corrupt image/label: image file is truncated (89 bytes not processed)\n",
            "\u001b[34m\u001b[1mtrain: \u001b[0mWARNING ⚠️ /content/dataset/images/train/frame_1148.jpg: ignoring corrupt image/label: image file is truncated (108 bytes not processed)\n",
            "\u001b[34m\u001b[1mtrain: \u001b[0mWARNING ⚠️ /content/dataset/images/train/frame_1149.jpg: ignoring corrupt image/label: image file is truncated (14 bytes not processed)\n",
            "\u001b[34m\u001b[1mtrain: \u001b[0mWARNING ⚠️ /content/dataset/images/train/frame_1150.jpg: ignoring corrupt image/label: image file is truncated (124 bytes not processed)\n",
            "\u001b[34m\u001b[1mtrain: \u001b[0mWARNING ⚠️ /content/dataset/images/train/frame_1151.jpg: ignoring corrupt image/label: image file is truncated (112 bytes not processed)\n",
            "\u001b[34m\u001b[1mtrain: \u001b[0mWARNING ⚠️ /content/dataset/images/train/frame_1153.jpg: ignoring corrupt image/label: image file is truncated (70 bytes not processed)\n",
            "\u001b[34m\u001b[1mtrain: \u001b[0mWARNING ⚠️ /content/dataset/images/train/frame_1154.jpg: ignoring corrupt image/label: image file is truncated (83 bytes not processed)\n",
            "\u001b[34m\u001b[1mtrain: \u001b[0mWARNING ⚠️ /content/dataset/images/train/frame_1155.jpg: ignoring corrupt image/label: image file is truncated (52 bytes not processed)\n",
            "\u001b[34m\u001b[1mtrain: \u001b[0mWARNING ⚠️ /content/dataset/images/train/frame_1157.jpg: ignoring corrupt image/label: image file is truncated (13 bytes not processed)\n",
            "\u001b[34m\u001b[1mtrain: \u001b[0mWARNING ⚠️ /content/dataset/images/train/frame_1158.jpg: ignoring corrupt image/label: image file is truncated (74 bytes not processed)\n",
            "\u001b[34m\u001b[1mtrain: \u001b[0mWARNING ⚠️ /content/dataset/images/train/frame_1162.jpg: ignoring corrupt image/label: image file is truncated (69 bytes not processed)\n",
            "\u001b[34m\u001b[1mtrain: \u001b[0mWARNING ⚠️ /content/dataset/images/train/frame_1166.jpg: ignoring corrupt image/label: image file is truncated (17 bytes not processed)\n",
            "\u001b[34m\u001b[1mtrain: \u001b[0mWARNING ⚠️ /content/dataset/images/train/frame_1167.jpg: ignoring corrupt image/label: image file is truncated (118 bytes not processed)\n",
            "\u001b[34m\u001b[1mtrain: \u001b[0mWARNING ⚠️ /content/dataset/images/train/frame_1168.jpg: ignoring corrupt image/label: image file is truncated (46 bytes not processed)\n",
            "\u001b[34m\u001b[1mtrain: \u001b[0mWARNING ⚠️ /content/dataset/images/train/frame_1170.jpg: ignoring corrupt image/label: image file is truncated (80 bytes not processed)\n",
            "\u001b[34m\u001b[1mtrain: \u001b[0mWARNING ⚠️ /content/dataset/images/train/frame_1172.jpg: ignoring corrupt image/label: image file is truncated (21 bytes not processed)\n",
            "\u001b[34m\u001b[1mtrain: \u001b[0mWARNING ⚠️ /content/dataset/images/train/frame_1174.jpg: ignoring corrupt image/label: image file is truncated (119 bytes not processed)\n",
            "\u001b[34m\u001b[1mtrain: \u001b[0mWARNING ⚠️ /content/dataset/images/train/frame_1175.jpg: ignoring corrupt image/label: image file is truncated (60 bytes not processed)\n",
            "\u001b[34m\u001b[1mtrain: \u001b[0mWARNING ⚠️ /content/dataset/images/train/frame_1176.jpg: ignoring corrupt image/label: image file is truncated (6 bytes not processed)\n",
            "\u001b[34m\u001b[1mtrain: \u001b[0mWARNING ⚠️ /content/dataset/images/train/frame_1178.jpg: ignoring corrupt image/label: image file is truncated (140 bytes not processed)\n",
            "\u001b[34m\u001b[1mtrain: \u001b[0mWARNING ⚠️ /content/dataset/images/train/frame_1179.jpg: ignoring corrupt image/label: image file is truncated (89 bytes not processed)\n",
            "\u001b[34m\u001b[1mtrain: \u001b[0mWARNING ⚠️ /content/dataset/images/train/frame_1180.jpg: ignoring corrupt image/label: image file is truncated (105 bytes not processed)\n",
            "\u001b[34m\u001b[1mtrain: \u001b[0mWARNING ⚠️ /content/dataset/images/train/frame_1181.jpg: ignoring corrupt image/label: image file is truncated (174 bytes not processed)\n",
            "\u001b[34m\u001b[1mtrain: \u001b[0mWARNING ⚠️ /content/dataset/images/train/frame_1182.jpg: ignoring corrupt image/label: image file is truncated (69 bytes not processed)\n",
            "\u001b[34m\u001b[1mtrain: \u001b[0mWARNING ⚠️ /content/dataset/images/train/frame_1186.jpg: ignoring corrupt image/label: image file is truncated (85 bytes not processed)\n",
            "\u001b[34m\u001b[1mtrain: \u001b[0mWARNING ⚠️ /content/dataset/images/train/frame_1188.jpg: ignoring corrupt image/label: image file is truncated (5 bytes not processed)\n",
            "\u001b[34m\u001b[1mtrain: \u001b[0mWARNING ⚠️ /content/dataset/images/train/frame_1189.jpg: ignoring corrupt image/label: image file is truncated (0 bytes not processed)\n",
            "\u001b[34m\u001b[1mtrain: \u001b[0mWARNING ⚠️ /content/dataset/images/train/frame_1190.jpg: ignoring corrupt image/label: image file is truncated (49 bytes not processed)\n",
            "\u001b[34m\u001b[1mtrain: \u001b[0mWARNING ⚠️ /content/dataset/images/train/frame_1191.jpg: ignoring corrupt image/label: image file is truncated (47 bytes not processed)\n",
            "\u001b[34m\u001b[1mtrain: \u001b[0mWARNING ⚠️ /content/dataset/images/train/frame_1192.jpg: ignoring corrupt image/label: image file is truncated (18 bytes not processed)\n",
            "\u001b[34m\u001b[1mtrain: \u001b[0mWARNING ⚠️ /content/dataset/images/train/frame_1193.jpg: ignoring corrupt image/label: image file is truncated (14 bytes not processed)\n",
            "\u001b[34m\u001b[1mtrain: \u001b[0mWARNING ⚠️ /content/dataset/images/train/frame_1194.jpg: ignoring corrupt image/label: image file is truncated (29 bytes not processed)\n",
            "\u001b[34m\u001b[1mtrain: \u001b[0mWARNING ⚠️ /content/dataset/images/train/frame_1195.jpg: ignoring corrupt image/label: image file is truncated (112 bytes not processed)\n",
            "\u001b[34m\u001b[1mtrain: \u001b[0mWARNING ⚠️ /content/dataset/images/train/frame_1196.jpg: ignoring corrupt image/label: image file is truncated (28 bytes not processed)\n",
            "\u001b[34m\u001b[1mtrain: \u001b[0mWARNING ⚠️ /content/dataset/images/train/frame_1197.jpg: ignoring corrupt image/label: image file is truncated (21 bytes not processed)\n",
            "\u001b[34m\u001b[1mtrain: \u001b[0mWARNING ⚠️ /content/dataset/images/train/frame_1198.jpg: ignoring corrupt image/label: image file is truncated (134 bytes not processed)\n",
            "\u001b[34m\u001b[1mtrain: \u001b[0mWARNING ⚠️ /content/dataset/images/train/frame_1200.jpg: ignoring corrupt image/label: image file is truncated (59 bytes not processed)\n",
            "\u001b[34m\u001b[1mtrain: \u001b[0mWARNING ⚠️ /content/dataset/images/train/frame_1201.jpg: ignoring corrupt image/label: image file is truncated (73 bytes not processed)\n",
            "\u001b[34m\u001b[1mtrain: \u001b[0mWARNING ⚠️ /content/dataset/images/train/frame_1207.jpg: ignoring corrupt image/label: image file is truncated (73 bytes not processed)\n",
            "\u001b[34m\u001b[1mtrain: \u001b[0mWARNING ⚠️ /content/dataset/images/train/frame_1210.jpg: ignoring corrupt image/label: image file is truncated (34 bytes not processed)\n",
            "\u001b[34m\u001b[1mtrain: \u001b[0mWARNING ⚠️ /content/dataset/images/train/frame_1211.jpg: ignoring corrupt image/label: image file is truncated (56 bytes not processed)\n",
            "\u001b[34m\u001b[1mtrain: \u001b[0mWARNING ⚠️ /content/dataset/images/train/frame_1230.jpg: ignoring corrupt image/label: image file is truncated (49 bytes not processed)\n",
            "\u001b[34m\u001b[1mtrain: \u001b[0mWARNING ⚠️ /content/dataset/images/train/frame_1231.jpg: ignoring corrupt image/label: image file is truncated (18 bytes not processed)\n",
            "\u001b[34m\u001b[1mtrain: \u001b[0mNew cache created: /content/dataset/labels/train.cache\n",
            "\u001b[34m\u001b[1mval: \u001b[0mScanning /content/dataset/labels/val... 76 images, 0 backgrounds, 109 corrupt: 100% 185/185 [00:06<00:00, 28.39it/s]\n",
            "\u001b[34m\u001b[1mval: \u001b[0mWARNING ⚠️ /content/dataset/images/val/frame_0490.jpg: ignoring corrupt image/label: image file is truncated (49 bytes not processed)\n",
            "\u001b[34m\u001b[1mval: \u001b[0mWARNING ⚠️ /content/dataset/images/val/frame_0491.jpg: ignoring corrupt image/label: image file is truncated (26 bytes not processed)\n",
            "\u001b[34m\u001b[1mval: \u001b[0mWARNING ⚠️ /content/dataset/images/val/frame_0492.jpg: ignoring corrupt image/label: image file is truncated (75 bytes not processed)\n",
            "\u001b[34m\u001b[1mval: \u001b[0mWARNING ⚠️ /content/dataset/images/val/frame_0493.jpg: ignoring corrupt image/label: image file is truncated (13 bytes not processed)\n",
            "\u001b[34m\u001b[1mval: \u001b[0mWARNING ⚠️ /content/dataset/images/val/frame_0495.jpg: ignoring corrupt image/label: image file is truncated (29 bytes not processed)\n",
            "\u001b[34m\u001b[1mval: \u001b[0mWARNING ⚠️ /content/dataset/images/val/frame_0497.jpg: ignoring corrupt image/label: image file is truncated (14 bytes not processed)\n",
            "\u001b[34m\u001b[1mval: \u001b[0mWARNING ⚠️ /content/dataset/images/val/frame_0499.jpg: ignoring corrupt image/label: image file is truncated (19 bytes not processed)\n",
            "\u001b[34m\u001b[1mval: \u001b[0mWARNING ⚠️ /content/dataset/images/val/frame_0500.jpg: ignoring corrupt image/label: image file is truncated (74 bytes not processed)\n",
            "\u001b[34m\u001b[1mval: \u001b[0mWARNING ⚠️ /content/dataset/images/val/frame_0501.jpg: ignoring corrupt image/label: image file is truncated (48 bytes not processed)\n",
            "\u001b[34m\u001b[1mval: \u001b[0mWARNING ⚠️ /content/dataset/images/val/frame_0509.jpg: ignoring corrupt image/label: image file is truncated (36 bytes not processed)\n",
            "\u001b[34m\u001b[1mval: \u001b[0mWARNING ⚠️ /content/dataset/images/val/frame_0510.jpg: ignoring corrupt image/label: image file is truncated (49 bytes not processed)\n",
            "\u001b[34m\u001b[1mval: \u001b[0mWARNING ⚠️ /content/dataset/images/val/frame_0532.jpg: ignoring corrupt image/label: image file is truncated (45 bytes not processed)\n",
            "\u001b[34m\u001b[1mval: \u001b[0mWARNING ⚠️ /content/dataset/images/val/frame_0533.jpg: ignoring corrupt image/label: image file is truncated (33 bytes not processed)\n",
            "\u001b[34m\u001b[1mval: \u001b[0mWARNING ⚠️ /content/dataset/images/val/frame_0534.jpg: ignoring corrupt image/label: image file is truncated (6 bytes not processed)\n",
            "\u001b[34m\u001b[1mval: \u001b[0mWARNING ⚠️ /content/dataset/images/val/frame_0535.jpg: ignoring corrupt image/label: image file is truncated (100 bytes not processed)\n",
            "\u001b[34m\u001b[1mval: \u001b[0mWARNING ⚠️ /content/dataset/images/val/frame_0537.jpg: ignoring corrupt image/label: image file is truncated (71 bytes not processed)\n",
            "\u001b[34m\u001b[1mval: \u001b[0mWARNING ⚠️ /content/dataset/images/val/frame_0546.jpg: ignoring corrupt image/label: image file is truncated (12 bytes not processed)\n",
            "\u001b[34m\u001b[1mval: \u001b[0mWARNING ⚠️ /content/dataset/images/val/frame_0561.jpg: ignoring corrupt image/label: image file is truncated (56 bytes not processed)\n",
            "\u001b[34m\u001b[1mval: \u001b[0mWARNING ⚠️ /content/dataset/images/val/frame_0642.jpg: ignoring corrupt image/label: image file is truncated (27 bytes not processed)\n",
            "\u001b[34m\u001b[1mval: \u001b[0mWARNING ⚠️ /content/dataset/images/val/frame_0646.jpg: ignoring corrupt image/label: image file is truncated (33 bytes not processed)\n",
            "\u001b[34m\u001b[1mval: \u001b[0mWARNING ⚠️ /content/dataset/images/val/frame_0649.jpg: ignoring corrupt image/label: image file is truncated (26 bytes not processed)\n",
            "\u001b[34m\u001b[1mval: \u001b[0mWARNING ⚠️ /content/dataset/images/val/frame_0651.jpg: ignoring corrupt image/label: image file is truncated (111 bytes not processed)\n",
            "\u001b[34m\u001b[1mval: \u001b[0mWARNING ⚠️ /content/dataset/images/val/frame_0654.jpg: ignoring corrupt image/label: image file is truncated (17 bytes not processed)\n",
            "\u001b[34m\u001b[1mval: \u001b[0mWARNING ⚠️ /content/dataset/images/val/frame_0659.jpg: ignoring corrupt image/label: image file is truncated (97 bytes not processed)\n",
            "\u001b[34m\u001b[1mval: \u001b[0mWARNING ⚠️ /content/dataset/images/val/frame_0664.jpg: ignoring corrupt image/label: image file is truncated (106 bytes not processed)\n",
            "\u001b[34m\u001b[1mval: \u001b[0mWARNING ⚠️ /content/dataset/images/val/frame_0668.jpg: ignoring corrupt image/label: image file is truncated (20 bytes not processed)\n",
            "\u001b[34m\u001b[1mval: \u001b[0mWARNING ⚠️ /content/dataset/images/val/frame_0673.jpg: ignoring corrupt image/label: image file is truncated (10 bytes not processed)\n",
            "\u001b[34m\u001b[1mval: \u001b[0mWARNING ⚠️ /content/dataset/images/val/frame_0680.jpg: ignoring corrupt image/label: image file is truncated (81 bytes not processed)\n",
            "\u001b[34m\u001b[1mval: \u001b[0mWARNING ⚠️ /content/dataset/images/val/frame_0682.jpg: ignoring corrupt image/label: image file is truncated (90 bytes not processed)\n",
            "\u001b[34m\u001b[1mval: \u001b[0mWARNING ⚠️ /content/dataset/images/val/frame_0684.jpg: ignoring corrupt image/label: image file is truncated (34 bytes not processed)\n",
            "\u001b[34m\u001b[1mval: \u001b[0mWARNING ⚠️ /content/dataset/images/val/frame_0686.jpg: ignoring corrupt image/label: image file is truncated (12 bytes not processed)\n",
            "\u001b[34m\u001b[1mval: \u001b[0mWARNING ⚠️ /content/dataset/images/val/frame_0688.jpg: ignoring corrupt image/label: image file is truncated (148 bytes not processed)\n",
            "\u001b[34m\u001b[1mval: \u001b[0mWARNING ⚠️ /content/dataset/images/val/frame_0689.jpg: ignoring corrupt image/label: image file is truncated (124 bytes not processed)\n",
            "\u001b[34m\u001b[1mval: \u001b[0mWARNING ⚠️ /content/dataset/images/val/frame_0692.jpg: ignoring corrupt image/label: image file is truncated (30 bytes not processed)\n",
            "\u001b[34m\u001b[1mval: \u001b[0mWARNING ⚠️ /content/dataset/images/val/frame_0694.jpg: ignoring corrupt image/label: image file is truncated (10 bytes not processed)\n",
            "\u001b[34m\u001b[1mval: \u001b[0mWARNING ⚠️ /content/dataset/images/val/frame_0708.jpg: ignoring corrupt image/label: image file is truncated (56 bytes not processed)\n",
            "\u001b[34m\u001b[1mval: \u001b[0mWARNING ⚠️ /content/dataset/images/val/frame_0709.jpg: ignoring corrupt image/label: image file is truncated (132 bytes not processed)\n",
            "\u001b[34m\u001b[1mval: \u001b[0mWARNING ⚠️ /content/dataset/images/val/frame_0710.jpg: ignoring corrupt image/label: image file is truncated (53 bytes not processed)\n",
            "\u001b[34m\u001b[1mval: \u001b[0mWARNING ⚠️ /content/dataset/images/val/frame_0715.jpg: ignoring corrupt image/label: image file is truncated (146 bytes not processed)\n",
            "\u001b[34m\u001b[1mval: \u001b[0mWARNING ⚠️ /content/dataset/images/val/frame_0717.jpg: ignoring corrupt image/label: image file is truncated (101 bytes not processed)\n",
            "\u001b[34m\u001b[1mval: \u001b[0mWARNING ⚠️ /content/dataset/images/val/frame_0719.jpg: ignoring corrupt image/label: image file is truncated (54 bytes not processed)\n",
            "\u001b[34m\u001b[1mval: \u001b[0mWARNING ⚠️ /content/dataset/images/val/frame_0722.jpg: ignoring corrupt image/label: image file is truncated (63 bytes not processed)\n",
            "\u001b[34m\u001b[1mval: \u001b[0mWARNING ⚠️ /content/dataset/images/val/frame_0726.jpg: ignoring corrupt image/label: image file is truncated (79 bytes not processed)\n",
            "\u001b[34m\u001b[1mval: \u001b[0mWARNING ⚠️ /content/dataset/images/val/frame_0728.jpg: ignoring corrupt image/label: image file is truncated (13 bytes not processed)\n",
            "\u001b[34m\u001b[1mval: \u001b[0mWARNING ⚠️ /content/dataset/images/val/frame_0731.jpg: ignoring corrupt image/label: image file is truncated (67 bytes not processed)\n",
            "\u001b[34m\u001b[1mval: \u001b[0mWARNING ⚠️ /content/dataset/images/val/frame_0732.jpg: ignoring corrupt image/label: image file is truncated (66 bytes not processed)\n",
            "\u001b[34m\u001b[1mval: \u001b[0mWARNING ⚠️ /content/dataset/images/val/frame_0733.jpg: ignoring corrupt image/label: image file is truncated (10 bytes not processed)\n",
            "\u001b[34m\u001b[1mval: \u001b[0mWARNING ⚠️ /content/dataset/images/val/frame_0735.jpg: ignoring corrupt image/label: image file is truncated (16 bytes not processed)\n",
            "\u001b[34m\u001b[1mval: \u001b[0mWARNING ⚠️ /content/dataset/images/val/frame_0739.jpg: ignoring corrupt image/label: image file is truncated (76 bytes not processed)\n",
            "\u001b[34m\u001b[1mval: \u001b[0mWARNING ⚠️ /content/dataset/images/val/frame_0741.jpg: ignoring corrupt image/label: image file is truncated (35 bytes not processed)\n",
            "\u001b[34m\u001b[1mval: \u001b[0mWARNING ⚠️ /content/dataset/images/val/frame_0793.jpg: ignoring corrupt image/label: image file is truncated (134 bytes not processed)\n",
            "\u001b[34m\u001b[1mval: \u001b[0mWARNING ⚠️ /content/dataset/images/val/frame_0794.jpg: ignoring corrupt image/label: image file is truncated (32 bytes not processed)\n",
            "\u001b[34m\u001b[1mval: \u001b[0mWARNING ⚠️ /content/dataset/images/val/frame_0795.jpg: ignoring corrupt image/label: image file is truncated (54 bytes not processed)\n",
            "\u001b[34m\u001b[1mval: \u001b[0mWARNING ⚠️ /content/dataset/images/val/frame_0800.jpg: ignoring corrupt image/label: image file is truncated (72 bytes not processed)\n",
            "\u001b[34m\u001b[1mval: \u001b[0mWARNING ⚠️ /content/dataset/images/val/frame_0808.jpg: ignoring corrupt image/label: image file is truncated (4 bytes not processed)\n",
            "\u001b[34m\u001b[1mval: \u001b[0mWARNING ⚠️ /content/dataset/images/val/frame_0810.jpg: ignoring corrupt image/label: image file is truncated (50 bytes not processed)\n",
            "\u001b[34m\u001b[1mval: \u001b[0mWARNING ⚠️ /content/dataset/images/val/frame_0811.jpg: ignoring corrupt image/label: image file is truncated (46 bytes not processed)\n",
            "\u001b[34m\u001b[1mval: \u001b[0mWARNING ⚠️ /content/dataset/images/val/frame_0816.jpg: ignoring corrupt image/label: image file is truncated (1 bytes not processed)\n",
            "\u001b[34m\u001b[1mval: \u001b[0mWARNING ⚠️ /content/dataset/images/val/frame_0819.jpg: ignoring corrupt image/label: image file is truncated (136 bytes not processed)\n",
            "\u001b[34m\u001b[1mval: \u001b[0mWARNING ⚠️ /content/dataset/images/val/frame_0822.jpg: ignoring corrupt image/label: image file is truncated (33 bytes not processed)\n",
            "\u001b[34m\u001b[1mval: \u001b[0mWARNING ⚠️ /content/dataset/images/val/frame_0829.jpg: ignoring corrupt image/label: image file is truncated (47 bytes not processed)\n",
            "\u001b[34m\u001b[1mval: \u001b[0mWARNING ⚠️ /content/dataset/images/val/frame_0832.jpg: ignoring corrupt image/label: image file is truncated (24 bytes not processed)\n",
            "\u001b[34m\u001b[1mval: \u001b[0mWARNING ⚠️ /content/dataset/images/val/frame_0834.jpg: ignoring corrupt image/label: image file is truncated (16 bytes not processed)\n",
            "\u001b[34m\u001b[1mval: \u001b[0mWARNING ⚠️ /content/dataset/images/val/frame_0837.jpg: ignoring corrupt image/label: image file is truncated (53 bytes not processed)\n",
            "\u001b[34m\u001b[1mval: \u001b[0mWARNING ⚠️ /content/dataset/images/val/frame_0859.jpg: ignoring corrupt image/label: image file is truncated (42 bytes not processed)\n",
            "\u001b[34m\u001b[1mval: \u001b[0mWARNING ⚠️ /content/dataset/images/val/frame_0930.jpg: ignoring corrupt image/label: image file is truncated (94 bytes not processed)\n",
            "\u001b[34m\u001b[1mval: \u001b[0mWARNING ⚠️ /content/dataset/images/val/frame_0950.jpg: ignoring corrupt image/label: image file is truncated (12 bytes not processed)\n",
            "\u001b[34m\u001b[1mval: \u001b[0mWARNING ⚠️ /content/dataset/images/val/frame_0965.jpg: ignoring corrupt image/label: image file is truncated (114 bytes not processed)\n",
            "\u001b[34m\u001b[1mval: \u001b[0mWARNING ⚠️ /content/dataset/images/val/frame_0966.jpg: ignoring corrupt image/label: image file is truncated (10 bytes not processed)\n",
            "\u001b[34m\u001b[1mval: \u001b[0mWARNING ⚠️ /content/dataset/images/val/frame_0967.jpg: ignoring corrupt image/label: image file is truncated (8 bytes not processed)\n",
            "\u001b[34m\u001b[1mval: \u001b[0mWARNING ⚠️ /content/dataset/images/val/frame_0968.jpg: ignoring corrupt image/label: image file is truncated (84 bytes not processed)\n",
            "\u001b[34m\u001b[1mval: \u001b[0mWARNING ⚠️ /content/dataset/images/val/frame_0969.jpg: ignoring corrupt image/label: image file is truncated (22 bytes not processed)\n",
            "\u001b[34m\u001b[1mval: \u001b[0mWARNING ⚠️ /content/dataset/images/val/frame_0970.jpg: ignoring corrupt image/label: image file is truncated (79 bytes not processed)\n",
            "\u001b[34m\u001b[1mval: \u001b[0mWARNING ⚠️ /content/dataset/images/val/frame_0971.jpg: ignoring corrupt image/label: image file is truncated (40 bytes not processed)\n",
            "\u001b[34m\u001b[1mval: \u001b[0mWARNING ⚠️ /content/dataset/images/val/frame_0972.jpg: ignoring corrupt image/label: image file is truncated (41 bytes not processed)\n",
            "\u001b[34m\u001b[1mval: \u001b[0mWARNING ⚠️ /content/dataset/images/val/frame_0973.jpg: ignoring corrupt image/label: image file is truncated (90 bytes not processed)\n",
            "\u001b[34m\u001b[1mval: \u001b[0mWARNING ⚠️ /content/dataset/images/val/frame_0996.jpg: ignoring corrupt image/label: image file is truncated (41 bytes not processed)\n",
            "\u001b[34m\u001b[1mval: \u001b[0mWARNING ⚠️ /content/dataset/images/val/frame_0997.jpg: ignoring corrupt image/label: image file is truncated (64 bytes not processed)\n",
            "\u001b[34m\u001b[1mval: \u001b[0mWARNING ⚠️ /content/dataset/images/val/frame_0998.jpg: ignoring corrupt image/label: image file is truncated (24 bytes not processed)\n",
            "\u001b[34m\u001b[1mval: \u001b[0mWARNING ⚠️ /content/dataset/images/val/frame_0999.jpg: ignoring corrupt image/label: image file is truncated (69 bytes not processed)\n",
            "\u001b[34m\u001b[1mval: \u001b[0mWARNING ⚠️ /content/dataset/images/val/frame_1001.jpg: ignoring corrupt image/label: image file is truncated (17 bytes not processed)\n",
            "\u001b[34m\u001b[1mval: \u001b[0mWARNING ⚠️ /content/dataset/images/val/frame_1002.jpg: ignoring corrupt image/label: image file is truncated (39 bytes not processed)\n",
            "\u001b[34m\u001b[1mval: \u001b[0mWARNING ⚠️ /content/dataset/images/val/frame_1005.jpg: ignoring corrupt image/label: image file is truncated (106 bytes not processed)\n",
            "\u001b[34m\u001b[1mval: \u001b[0mWARNING ⚠️ /content/dataset/images/val/frame_1007.jpg: ignoring corrupt image/label: image file is truncated (62 bytes not processed)\n",
            "\u001b[34m\u001b[1mval: \u001b[0mWARNING ⚠️ /content/dataset/images/val/frame_1008.jpg: ignoring corrupt image/label: image file is truncated (14 bytes not processed)\n",
            "\u001b[34m\u001b[1mval: \u001b[0mWARNING ⚠️ /content/dataset/images/val/frame_1133.jpg: ignoring corrupt image/label: image file is truncated (22 bytes not processed)\n",
            "\u001b[34m\u001b[1mval: \u001b[0mWARNING ⚠️ /content/dataset/images/val/frame_1137.jpg: ignoring corrupt image/label: image file is truncated (50 bytes not processed)\n",
            "\u001b[34m\u001b[1mval: \u001b[0mWARNING ⚠️ /content/dataset/images/val/frame_1145.jpg: ignoring corrupt image/label: image file is truncated (5 bytes not processed)\n",
            "\u001b[34m\u001b[1mval: \u001b[0mWARNING ⚠️ /content/dataset/images/val/frame_1147.jpg: ignoring corrupt image/label: image file is truncated (92 bytes not processed)\n",
            "\u001b[34m\u001b[1mval: \u001b[0mWARNING ⚠️ /content/dataset/images/val/frame_1152.jpg: ignoring corrupt image/label: image file is truncated (41 bytes not processed)\n",
            "\u001b[34m\u001b[1mval: \u001b[0mWARNING ⚠️ /content/dataset/images/val/frame_1156.jpg: ignoring corrupt image/label: image file is truncated (111 bytes not processed)\n",
            "\u001b[34m\u001b[1mval: \u001b[0mWARNING ⚠️ /content/dataset/images/val/frame_1159.jpg: ignoring corrupt image/label: image file is truncated (68 bytes not processed)\n",
            "\u001b[34m\u001b[1mval: \u001b[0mWARNING ⚠️ /content/dataset/images/val/frame_1160.jpg: ignoring corrupt image/label: image file is truncated (17 bytes not processed)\n",
            "\u001b[34m\u001b[1mval: \u001b[0mWARNING ⚠️ /content/dataset/images/val/frame_1161.jpg: ignoring corrupt image/label: image file is truncated (42 bytes not processed)\n",
            "\u001b[34m\u001b[1mval: \u001b[0mWARNING ⚠️ /content/dataset/images/val/frame_1163.jpg: ignoring corrupt image/label: image file is truncated (169 bytes not processed)\n",
            "\u001b[34m\u001b[1mval: \u001b[0mWARNING ⚠️ /content/dataset/images/val/frame_1164.jpg: ignoring corrupt image/label: image file is truncated (8 bytes not processed)\n",
            "\u001b[34m\u001b[1mval: \u001b[0mWARNING ⚠️ /content/dataset/images/val/frame_1165.jpg: ignoring corrupt image/label: image file is truncated (65 bytes not processed)\n",
            "\u001b[34m\u001b[1mval: \u001b[0mWARNING ⚠️ /content/dataset/images/val/frame_1169.jpg: ignoring corrupt image/label: image file is truncated (93 bytes not processed)\n",
            "\u001b[34m\u001b[1mval: \u001b[0mWARNING ⚠️ /content/dataset/images/val/frame_1171.jpg: ignoring corrupt image/label: image file is truncated (75 bytes not processed)\n",
            "\u001b[34m\u001b[1mval: \u001b[0mWARNING ⚠️ /content/dataset/images/val/frame_1173.jpg: ignoring corrupt image/label: image file is truncated (78 bytes not processed)\n",
            "\u001b[34m\u001b[1mval: \u001b[0mWARNING ⚠️ /content/dataset/images/val/frame_1177.jpg: ignoring corrupt image/label: image file is truncated (105 bytes not processed)\n",
            "\u001b[34m\u001b[1mval: \u001b[0mWARNING ⚠️ /content/dataset/images/val/frame_1183.jpg: ignoring corrupt image/label: image file is truncated (53 bytes not processed)\n",
            "\u001b[34m\u001b[1mval: \u001b[0mWARNING ⚠️ /content/dataset/images/val/frame_1184.jpg: ignoring corrupt image/label: image file is truncated (26 bytes not processed)\n",
            "\u001b[34m\u001b[1mval: \u001b[0mWARNING ⚠️ /content/dataset/images/val/frame_1185.jpg: ignoring corrupt image/label: image file is truncated (54 bytes not processed)\n",
            "\u001b[34m\u001b[1mval: \u001b[0mWARNING ⚠️ /content/dataset/images/val/frame_1187.jpg: ignoring corrupt image/label: image file is truncated (2 bytes not processed)\n",
            "\u001b[34m\u001b[1mval: \u001b[0mWARNING ⚠️ /content/dataset/images/val/frame_1199.jpg: ignoring corrupt image/label: image file is truncated (31 bytes not processed)\n",
            "\u001b[34m\u001b[1mval: \u001b[0mWARNING ⚠️ /content/dataset/images/val/frame_1206.jpg: ignoring corrupt image/label: image file is truncated (37 bytes not processed)\n",
            "\u001b[34m\u001b[1mval: \u001b[0mWARNING ⚠️ /content/dataset/images/val/frame_1208.jpg: ignoring corrupt image/label: image file is truncated (43 bytes not processed)\n",
            "\u001b[34m\u001b[1mval: \u001b[0mWARNING ⚠️ /content/dataset/images/val/frame_1209.jpg: ignoring corrupt image/label: image file is truncated (39 bytes not processed)\n",
            "\u001b[34m\u001b[1mval: \u001b[0mNew cache created: /content/dataset/labels/val.cache\n",
            "\n",
            "\u001b[34m\u001b[1mAutoAnchor: \u001b[0m5.96 anchors/target, 1.000 Best Possible Recall (BPR). Current anchors are a good fit to dataset ✅\n",
            "Plotting labels to runs/train/exp2/labels.jpg... \n",
            "Image sizes 224 train, 224 val\n",
            "Using 2 dataloader workers\n",
            "Logging results to \u001b[1mruns/train/exp2\u001b[0m\n",
            "Starting training for 20 epochs...\n",
            "\n",
            "      Epoch    GPU_mem   box_loss   obj_loss   cls_loss  Instances       Size\n",
            "       0/19      3.06G     0.1106    0.01583    0.05732         20        224: 100% 14/14 [00:33<00:00,  2.39s/it]\n",
            "                 Class     Images  Instances          P          R      mAP50   mAP50-95: 100% 3/3 [00:06<00:00,  2.21s/it]\n",
            "                   all         76         83    0.00302      0.392    0.00421   0.000819\n",
            "\n",
            "      Epoch    GPU_mem   box_loss   obj_loss   cls_loss  Instances       Size\n",
            "       1/19      3.25G    0.09379    0.02086    0.05109         19        224: 100% 14/14 [00:26<00:00,  1.93s/it]\n",
            "                 Class     Images  Instances          P          R      mAP50   mAP50-95: 100% 3/3 [00:01<00:00,  2.28it/s]\n",
            "                   all         76         83    0.00506      0.884     0.0272    0.00718\n",
            "\n",
            "      Epoch    GPU_mem   box_loss   obj_loss   cls_loss  Instances       Size\n",
            "       2/19      3.26G    0.08118    0.02498    0.04377         22        224: 100% 14/14 [00:32<00:00,  2.36s/it]\n",
            "                 Class     Images  Instances          P          R      mAP50   mAP50-95: 100% 3/3 [00:01<00:00,  2.20it/s]\n",
            "                   all         76         83    0.00473      0.893      0.012    0.00351\n",
            "\n",
            "      Epoch    GPU_mem   box_loss   obj_loss   cls_loss  Instances       Size\n",
            "       3/19      3.28G    0.07146     0.0246    0.03732         21        224: 100% 14/14 [00:33<00:00,  2.42s/it]\n",
            "                 Class     Images  Instances          P          R      mAP50   mAP50-95: 100% 3/3 [00:02<00:00,  1.29it/s]\n",
            "                   all         76         83    0.00701          1     0.0177     0.0056\n",
            "\n",
            "      Epoch    GPU_mem   box_loss   obj_loss   cls_loss  Instances       Size\n",
            "       4/19      3.28G    0.06701    0.02255    0.03405         16        224: 100% 14/14 [00:29<00:00,  2.08s/it]\n",
            "                 Class     Images  Instances          P          R      mAP50   mAP50-95: 100% 3/3 [00:01<00:00,  1.88it/s]\n",
            "                   all         76         83      0.407      0.294      0.106     0.0308\n",
            "\n",
            "      Epoch    GPU_mem   box_loss   obj_loss   cls_loss  Instances       Size\n",
            "       5/19      3.28G    0.06521    0.01844    0.03279         16        224: 100% 14/14 [00:29<00:00,  2.13s/it]\n",
            "                 Class     Images  Instances          P          R      mAP50   mAP50-95: 100% 3/3 [00:01<00:00,  1.88it/s]\n",
            "                   all         76         83      0.428      0.397      0.109     0.0279\n",
            "\n",
            "      Epoch    GPU_mem   box_loss   obj_loss   cls_loss  Instances       Size\n",
            "       6/19      3.28G    0.06637    0.01701    0.02974         17        224: 100% 14/14 [00:34<00:00,  2.46s/it]\n",
            "                 Class     Images  Instances          P          R      mAP50   mAP50-95: 100% 3/3 [00:01<00:00,  2.10it/s]\n",
            "                   all         76         83      0.525      0.385      0.212     0.0666\n",
            "\n",
            "      Epoch    GPU_mem   box_loss   obj_loss   cls_loss  Instances       Size\n",
            "       7/19      3.28G    0.06592    0.01653    0.02895         22        224: 100% 14/14 [00:28<00:00,  2.03s/it]\n",
            "                 Class     Images  Instances          P          R      mAP50   mAP50-95: 100% 3/3 [00:01<00:00,  2.01it/s]\n",
            "                   all         76         83      0.557      0.279       0.32     0.0812\n",
            "\n",
            "      Epoch    GPU_mem   box_loss   obj_loss   cls_loss  Instances       Size\n",
            "       8/19      3.28G    0.05863    0.01669    0.02658         15        224: 100% 14/14 [00:28<00:00,  2.07s/it]\n",
            "                 Class     Images  Instances          P          R      mAP50   mAP50-95: 100% 3/3 [00:01<00:00,  2.29it/s]\n",
            "                   all         76         83      0.529      0.528      0.401      0.174\n",
            "\n",
            "      Epoch    GPU_mem   box_loss   obj_loss   cls_loss  Instances       Size\n",
            "       9/19      3.28G    0.05562    0.01684    0.02619         18        224: 100% 14/14 [00:29<00:00,  2.09s/it]\n",
            "                 Class     Images  Instances          P          R      mAP50   mAP50-95: 100% 3/3 [00:02<00:00,  1.47it/s]\n",
            "                   all         76         83        0.7      0.467      0.386      0.235\n",
            "\n",
            "      Epoch    GPU_mem   box_loss   obj_loss   cls_loss  Instances       Size\n",
            "      10/19      3.28G    0.05062    0.01507     0.0247         19        224: 100% 14/14 [00:29<00:00,  2.12s/it]\n",
            "                 Class     Images  Instances          P          R      mAP50   mAP50-95: 100% 3/3 [00:01<00:00,  1.92it/s]\n",
            "                   all         76         83      0.743       0.48      0.532      0.251\n",
            "\n",
            "      Epoch    GPU_mem   box_loss   obj_loss   cls_loss  Instances       Size\n",
            "      11/19      3.28G    0.04667    0.01446    0.02437         13        224: 100% 14/14 [00:26<00:00,  1.89s/it]\n",
            "                 Class     Images  Instances          P          R      mAP50   mAP50-95: 100% 3/3 [00:01<00:00,  2.49it/s]\n",
            "                   all         76         83      0.643      0.474      0.529      0.231\n",
            "\n",
            "      Epoch    GPU_mem   box_loss   obj_loss   cls_loss  Instances       Size\n",
            "      12/19      3.28G    0.04424    0.01442    0.02273         16        224: 100% 14/14 [00:35<00:00,  2.52s/it]\n",
            "                 Class     Images  Instances          P          R      mAP50   mAP50-95: 100% 3/3 [00:01<00:00,  2.07it/s]\n",
            "                   all         76         83      0.853      0.433      0.653       0.32\n",
            "\n",
            "      Epoch    GPU_mem   box_loss   obj_loss   cls_loss  Instances       Size\n",
            "      13/19      3.28G    0.04087    0.01436    0.02084         20        224: 100% 14/14 [00:28<00:00,  2.06s/it]\n",
            "                 Class     Images  Instances          P          R      mAP50   mAP50-95: 100% 3/3 [00:01<00:00,  2.05it/s]\n",
            "                   all         76         83      0.808      0.579      0.737      0.516\n",
            "\n",
            "      Epoch    GPU_mem   box_loss   obj_loss   cls_loss  Instances       Size\n",
            "      14/19      3.28G    0.03642    0.01306    0.02017         18        224: 100% 14/14 [00:27<00:00,  1.94s/it]\n",
            "                 Class     Images  Instances          P          R      mAP50   mAP50-95: 100% 3/3 [00:01<00:00,  1.61it/s]\n",
            "                   all         76         83      0.789      0.584      0.714      0.407\n",
            "\n",
            "      Epoch    GPU_mem   box_loss   obj_loss   cls_loss  Instances       Size\n",
            "      15/19      3.28G    0.03543    0.01336    0.02046         19        224: 100% 14/14 [00:34<00:00,  2.45s/it]\n",
            "                 Class     Images  Instances          P          R      mAP50   mAP50-95: 100% 3/3 [00:01<00:00,  1.52it/s]\n",
            "                   all         76         83      0.858       0.55      0.758      0.409\n",
            "\n",
            "      Epoch    GPU_mem   box_loss   obj_loss   cls_loss  Instances       Size\n",
            "      16/19      3.28G    0.03359    0.01281    0.01992         18        224: 100% 14/14 [00:34<00:00,  2.47s/it]\n",
            "                 Class     Images  Instances          P          R      mAP50   mAP50-95: 100% 3/3 [00:01<00:00,  2.03it/s]\n",
            "                   all         76         83      0.691      0.728      0.804      0.549\n",
            "\n",
            "      Epoch    GPU_mem   box_loss   obj_loss   cls_loss  Instances       Size\n",
            "      17/19      3.28G    0.02912    0.01238    0.01873         17        224: 100% 14/14 [00:29<00:00,  2.09s/it]\n",
            "                 Class     Images  Instances          P          R      mAP50   mAP50-95: 100% 3/3 [00:01<00:00,  2.39it/s]\n",
            "                   all         76         83      0.906      0.529      0.808      0.524\n",
            "\n",
            "      Epoch    GPU_mem   box_loss   obj_loss   cls_loss  Instances       Size\n",
            "      18/19      3.28G    0.02718    0.01129    0.01771         14        224: 100% 14/14 [00:34<00:00,  2.45s/it]\n",
            "                 Class     Images  Instances          P          R      mAP50   mAP50-95: 100% 3/3 [00:01<00:00,  2.09it/s]\n",
            "                   all         76         83      0.678      0.739      0.805      0.603\n",
            "\n",
            "      Epoch    GPU_mem   box_loss   obj_loss   cls_loss  Instances       Size\n",
            "      19/19      3.28G    0.02709    0.01148    0.01679         25        224: 100% 14/14 [00:26<00:00,  1.90s/it]\n",
            "                 Class     Images  Instances          P          R      mAP50   mAP50-95: 100% 3/3 [00:02<00:00,  1.25it/s]\n",
            "                   all         76         83      0.692      0.739      0.818      0.632\n",
            "\n",
            "20 epochs completed in 0.240 hours.\n",
            "Optimizer stripped from runs/train/exp2/weights/last.pt, 173.0MB\n",
            "Optimizer stripped from runs/train/exp2/weights/best.pt, 173.0MB\n",
            "\n",
            "Validating runs/train/exp2/weights/best.pt...\n",
            "Fusing layers... \n",
            "Model summary: 322 layers, 86213788 parameters, 0 gradients, 203.9 GFLOPs\n",
            "                 Class     Images  Instances          P          R      mAP50   mAP50-95: 100% 3/3 [00:01<00:00,  1.52it/s]\n",
            "                   all         76         83      0.692      0.739      0.818      0.631\n",
            "                   RES         76         49      0.695          1      0.935      0.731\n",
            "                   FEP         76         24      0.503      0.917      0.912       0.71\n",
            "                   URI         76         10      0.877        0.3      0.606      0.452\n",
            "Results saved to \u001b[1mruns/train/exp2\u001b[0m\n"
          ]
        }
      ]
    },
    {
      "cell_type": "code",
      "source": [
        "!python detect.py --source /content/dataset/images/val/frame_0021.jpg --weights runs/train/exp2/weights/best.pt --view-img"
      ],
      "metadata": {
        "colab": {
          "base_uri": "https://localhost:8080/"
        },
        "id": "6b0KIng41OCq",
        "outputId": "92536576-08cd-4221-d987-094c9cd1d083"
      },
      "execution_count": 17,
      "outputs": [
        {
          "output_type": "stream",
          "name": "stdout",
          "text": [
            "\u001b[34m\u001b[1mdetect: \u001b[0mweights=['runs/train/exp2/weights/best.pt'], source=/content/dataset/images/val/frame_0021.jpg, data=data/coco128.yaml, imgsz=[640, 640], conf_thres=0.25, iou_thres=0.45, max_det=1000, device=, view_img=True, save_txt=False, save_conf=False, save_crop=False, nosave=False, classes=None, agnostic_nms=False, augment=False, visualize=False, update=False, project=runs/detect, name=exp, exist_ok=False, line_thickness=3, hide_labels=False, hide_conf=False, half=False, dnn=False, vid_stride=1\n",
            "YOLOv5 🚀 v7.0-210-gdd10481 Python-3.10.12 torch-2.0.1+cu118 CUDA:0 (Tesla T4, 15102MiB)\n",
            "\n",
            "Fusing layers... \n",
            "Model summary: 322 layers, 86213788 parameters, 0 gradients, 203.9 GFLOPs\n",
            "qt.qpa.xcb: could not connect to display \n",
            "qt.qpa.plugin: Could not load the Qt platform plugin \"xcb\" in \"/usr/local/lib/python3.10/dist-packages/cv2/qt/plugins\" even though it was found.\n",
            "This application failed to start because no Qt platform plugin could be initialized. Reinstalling the application may fix this problem.\n",
            "\n",
            "Available platform plugins are: xcb.\n",
            "\n"
          ]
        }
      ]
    },
    {
      "cell_type": "code",
      "source": [],
      "metadata": {
        "id": "vFFF2vSxF5zf"
      },
      "execution_count": null,
      "outputs": []
    }
  ]
}